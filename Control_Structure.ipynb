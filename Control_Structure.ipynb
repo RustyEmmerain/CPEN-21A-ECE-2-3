{
  "nbformat": 4,
  "nbformat_minor": 0,
  "metadata": {
    "colab": {
      "name": "Control Structure.ipynb",
      "provenance": [],
      "include_colab_link": true
    },
    "kernelspec": {
      "name": "python3",
      "display_name": "Python 3"
    },
    "language_info": {
      "name": "python"
    }
  },
  "cells": [
    {
      "cell_type": "markdown",
      "metadata": {
        "id": "view-in-github",
        "colab_type": "text"
      },
      "source": [
        "<a href=\"https://colab.research.google.com/github/RustyEmmerain/CPEN-21A-ECE-2-3/blob/main/Control_Structure.ipynb\" target=\"_parent\"><img src=\"https://colab.research.google.com/assets/colab-badge.svg\" alt=\"Open In Colab\"/></a>"
      ]
    },
    {
      "cell_type": "markdown",
      "metadata": {
        "id": "FBZfphn-yhyM"
      },
      "source": [
        "###lf Statement"
      ]
    },
    {
      "cell_type": "code",
      "metadata": {
        "id": "FhPeUJ7yy3kP"
      },
      "source": [
        "a=12\n",
        "b=100\n",
        "if a>b:\n",
        "  print(\"a is less than b\")\n",
        "\n"
      ],
      "execution_count": null,
      "outputs": []
    },
    {
      "cell_type": "markdown",
      "metadata": {
        "id": "OENsKBwpzbWO"
      },
      "source": [
        "###Elif Statement"
      ]
    },
    {
      "cell_type": "code",
      "metadata": {
        "colab": {
          "base_uri": "https://localhost:8080/"
        },
        "id": "RvAR810TzeBw",
        "outputId": "3d5b9e37-51e7-48f6-eb7e-9710b0fedc8b"
      },
      "source": [
        "a=30\n",
        "b=15\n",
        "if a<b:\n",
        "  print(\"a is less than b\")\n",
        "elif a>b:\n",
        "  print(\"a is greater than b\")"
      ],
      "execution_count": null,
      "outputs": [
        {
          "output_type": "stream",
          "name": "stdout",
          "text": [
            "a is greater than b\n"
          ]
        }
      ]
    },
    {
      "cell_type": "markdown",
      "metadata": {
        "id": "2h9FwuUQ0PMC"
      },
      "source": [
        "###Else Statement"
      ]
    },
    {
      "cell_type": "code",
      "metadata": {
        "colab": {
          "base_uri": "https://localhost:8080/"
        },
        "id": "-jFeEAoU0V5p",
        "outputId": "0febbb77-244c-44cf-f397-6f99a4083e70"
      },
      "source": [
        "a=30\n",
        "b=15\n",
        "if a<b:\n",
        "  print(\"a is less than b\")\n",
        "elif a>b:\n",
        "  print(\"a is greater than b\")\n",
        "else:\n",
        "  print(\"a is equal to b\")"
      ],
      "execution_count": null,
      "outputs": [
        {
          "output_type": "stream",
          "name": "stdout",
          "text": [
            "a is greater than b\n"
          ]
        }
      ]
    },
    {
      "cell_type": "markdown",
      "metadata": {
        "id": "rQqpZz_R0yVy"
      },
      "source": [
        "###Short Hand lf Statement"
      ]
    },
    {
      "cell_type": "code",
      "metadata": {
        "id": "rwkhbrDQ1AXO"
      },
      "source": [
        "a=16\n",
        "b=22\n",
        "\n",
        "if a>b: print(\"a is greater than b\")"
      ],
      "execution_count": null,
      "outputs": []
    },
    {
      "cell_type": "markdown",
      "metadata": {
        "id": "IZ4ATxLL1Km2"
      },
      "source": [
        "###Short Hand lf..Else Statement"
      ]
    },
    {
      "cell_type": "code",
      "metadata": {
        "colab": {
          "base_uri": "https://localhost:8080/"
        },
        "id": "YkdOhhFY1USg",
        "outputId": "7bf776b6-6702-441d-bdf0-69bddf5f6d14"
      },
      "source": [
        "print(\"a is greater than b\")if a>b else print(\"b is greater than a\")"
      ],
      "execution_count": null,
      "outputs": [
        {
          "output_type": "stream",
          "name": "stdout",
          "text": [
            "b is greater than a\n"
          ]
        }
      ]
    },
    {
      "cell_type": "markdown",
      "metadata": {
        "id": "T4SYX3nE2HDD"
      },
      "source": [
        "###And logic condition"
      ]
    },
    {
      "cell_type": "code",
      "metadata": {
        "colab": {
          "base_uri": "https://localhost:8080/"
        },
        "id": "zmLm_Ykk2NRm",
        "outputId": "44fe52ed-45ff-4113-a791-f4bedf601a6c"
      },
      "source": [
        "a= 200\n",
        "b=33\n",
        "c=500\n",
        "if a>b and c>a:\n",
        "  print(\"Both conditons are True\")\n",
        "else:\n",
        "  print(\"Either of the two conditions is True\")"
      ],
      "execution_count": null,
      "outputs": [
        {
          "output_type": "stream",
          "name": "stdout",
          "text": [
            "Both conditons are True\n"
          ]
        }
      ]
    },
    {
      "cell_type": "markdown",
      "metadata": {
        "id": "H1jJLKPT3GPu"
      },
      "source": [
        "###Or logic condition"
      ]
    },
    {
      "cell_type": "code",
      "metadata": {
        "colab": {
          "base_uri": "https://localhost:8080/"
        },
        "id": "6FXwCWYx3Kd_",
        "outputId": "6f0413fb-db6e-476f-fbae-fa52587451be"
      },
      "source": [
        "if a<b or c>a:\n",
        "  print(\"True\")\n",
        "else:\n",
        "  print(\"False\")"
      ],
      "execution_count": null,
      "outputs": [
        {
          "output_type": "stream",
          "name": "stdout",
          "text": [
            "True\n"
          ]
        }
      ]
    },
    {
      "cell_type": "markdown",
      "metadata": {
        "id": "tZk4WCH83jlv"
      },
      "source": [
        "###Nested lf"
      ]
    },
    {
      "cell_type": "code",
      "metadata": {
        "colab": {
          "base_uri": "https://localhost:8080/"
        },
        "id": "kpTUx-r03ytu",
        "outputId": "398a5ef5-547d-43e6-848a-b60ff2cb0d31"
      },
      "source": [
        "x=41\n",
        "if x>10:\n",
        "  print(\"Above 10\")\n",
        "  if x>20:\n",
        "   print(\"and above 20!\")\n",
        "   if x>30:\n",
        "    print(\"and above 30\")\n",
        "   else:\n",
        "     print(\"not above 30\")\n",
        "  else:\n",
        "   print(\"not above 20\")\n",
        "else:\n",
        "  print(\"below 10\")"
      ],
      "execution_count": null,
      "outputs": [
        {
          "output_type": "stream",
          "name": "stdout",
          "text": [
            "Above 10\n",
            "and above 20!\n",
            "and above 30\n"
          ]
        }
      ]
    },
    {
      "cell_type": "markdown",
      "metadata": {
        "id": "cGpkmnd_5uHa"
      },
      "source": [
        "###Example 1"
      ]
    },
    {
      "cell_type": "code",
      "metadata": {
        "colab": {
          "base_uri": "https://localhost:8080/"
        },
        "id": "7ugPPKpK5x2C",
        "outputId": "68165e45-87a7-452e-94b9-1e4cd866ea9e"
      },
      "source": [
        "age=int(input(\"Enter your age:\"))\n",
        "if age>=18:\n",
        "  print(\"You are qualified to vote\")\n",
        "else:\n",
        "  print(\"You are not qualified to vote\")"
      ],
      "execution_count": null,
      "outputs": [
        {
          "output_type": "stream",
          "name": "stdout",
          "text": [
            "Enter your age:19\n",
            "You are qualified to vote\n"
          ]
        }
      ]
    },
    {
      "cell_type": "markdown",
      "metadata": {
        "id": "-AO9TNEs_YQ5"
      },
      "source": [
        "###Example 2"
      ]
    },
    {
      "cell_type": "code",
      "metadata": {
        "colab": {
          "base_uri": "https://localhost:8080/"
        },
        "id": "2UQiLmpF_bFZ",
        "outputId": "8022a493-f671-4c3b-d9ff-d31cecddd831"
      },
      "source": [
        "number=float(input(\"Input any number:\"))\n",
        "if number>=1:\n",
        "  print(\"The number is a positive number\")\n",
        "elif number==-1:\n",
        "  print(\"The number is a negative number\")\n",
        "else:\n",
        "  print(\"Your number is zero\")\n"
      ],
      "execution_count": null,
      "outputs": [
        {
          "output_type": "stream",
          "name": "stdout",
          "text": [
            "Input any number:8\n",
            "The number is a positive number\n"
          ]
        }
      ]
    },
    {
      "cell_type": "markdown",
      "metadata": {
        "id": "NE1KohgX8VB9"
      },
      "source": [
        "###Example 3"
      ]
    },
    {
      "cell_type": "code",
      "metadata": {
        "colab": {
          "base_uri": "https://localhost:8080/"
        },
        "id": "F1ltVCJy8d4z",
        "outputId": "0764c729-53dd-4712-9322-9158e5a4836b"
      },
      "source": [
        "#Write a Python program that determines if the grades are:\n",
        "#grade>=75\"Passed\"\n",
        "#grade==74\"Remedial\"\n",
        "#grade<74\"Failed\"\n",
        "\n",
        "grade =float(input(\"Enter your grade:\"))\n",
        "if grade>=75:\n",
        "  print(\"You Passed\")\n",
        "elif grade>74 and grade<75:\n",
        "  print(\"Remedial\")\n",
        "else:\n",
        "  print(\"You Failed\")"
      ],
      "execution_count": null,
      "outputs": [
        {
          "output_type": "stream",
          "name": "stdout",
          "text": [
            "Enter your grade:74.00001\n",
            "Remedial\n"
          ]
        }
      ]
    }
  ]
}