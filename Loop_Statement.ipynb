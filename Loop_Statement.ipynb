{
  "nbformat": 4,
  "nbformat_minor": 0,
  "metadata": {
    "colab": {
      "name": "Loop Statement.ipynb",
      "provenance": [],
      "authorship_tag": "ABX9TyM7MNuAidlKDiA6qpaIED0W",
      "include_colab_link": true
    },
    "kernelspec": {
      "name": "python3",
      "display_name": "Python 3"
    },
    "language_info": {
      "name": "python"
    }
  },
  "cells": [
    {
      "cell_type": "markdown",
      "metadata": {
        "id": "view-in-github",
        "colab_type": "text"
      },
      "source": [
        "<a href=\"https://colab.research.google.com/github/RustyEmmerain/CPEN-21A-ECE-2-3/blob/main/Loop_Statement.ipynb\" target=\"_parent\"><img src=\"https://colab.research.google.com/assets/colab-badge.svg\" alt=\"Open In Colab\"/></a>"
      ]
    },
    {
      "cell_type": "code",
      "execution_count": null,
      "metadata": {
        "id": "OschviBV4Ngb"
      },
      "outputs": [],
      "source": [
        "For Loop"
      ]
    },
    {
      "cell_type": "code",
      "source": [
        "week=[\"Sunday\",\"Monday\",\"Tuesday\",\"Wednesday\",\"Thursday\",\"Friday\",\"Saturday\"]\n",
        "for x in week:\n",
        "  print(x)"
      ],
      "metadata": {
        "colab": {
          "base_uri": "https://localhost:8080/"
        },
        "id": "NE6L0Jpf6K0q",
        "outputId": "85faa5de-a8b3-41b4-bb6b-114eb457f033"
      },
      "execution_count": 1,
      "outputs": [
        {
          "output_type": "stream",
          "name": "stdout",
          "text": [
            "Sunday\n",
            "Monday\n",
            "Tuesday\n",
            "Wednesday\n",
            "Thursday\n",
            "Friday\n",
            "Saturday\n"
          ]
        }
      ]
    },
    {
      "cell_type": "markdown",
      "source": [
        "The break statement- with this break statement, we can stop the loop before it has looped through all the items"
      ],
      "metadata": {
        "id": "ZOfPbruf6YRf"
      }
    },
    {
      "cell_type": "code",
      "source": [
        "for x in week:\n",
        "  print(x)\n",
        "  if x==\"Thursday\":\n",
        "    break"
      ],
      "metadata": {
        "colab": {
          "base_uri": "https://localhost:8080/"
        },
        "id": "gGX536KO6a6y",
        "outputId": "6186f4e1-fbf9-452b-ceeb-a1bfcda8942d"
      },
      "execution_count": 2,
      "outputs": [
        {
          "output_type": "stream",
          "name": "stdout",
          "text": [
            "Sunday\n",
            "Monday\n",
            "Tuesday\n",
            "Wednesday\n",
            "Thursday\n"
          ]
        }
      ]
    },
    {
      "cell_type": "code",
      "source": [
        "for x in week:\n",
        "  if x==\"Thursday\":\n",
        "    break\n",
        "  print(x)"
      ],
      "metadata": {
        "colab": {
          "base_uri": "https://localhost:8080/"
        },
        "id": "ILUHZoSk6eh4",
        "outputId": "d873cc7b-802d-4225-8296-d8fc85695ec8"
      },
      "execution_count": 3,
      "outputs": [
        {
          "output_type": "stream",
          "name": "stdout",
          "text": [
            "Sunday\n",
            "Monday\n",
            "Tuesday\n",
            "Wednesday\n"
          ]
        }
      ]
    },
    {
      "cell_type": "markdown",
      "source": [
        "Looping through String"
      ],
      "metadata": {
        "id": "N5LrqNPc6o3a"
      }
    },
    {
      "cell_type": "code",
      "source": [
        "for x in \"Programming Logic and Design\":\n",
        "  print(x)"
      ],
      "metadata": {
        "colab": {
          "base_uri": "https://localhost:8080/"
        },
        "id": "kdxFe0O56pZJ",
        "outputId": "93cd576a-17b3-4263-bd6d-bcd6e058fc83"
      },
      "execution_count": 5,
      "outputs": [
        {
          "output_type": "stream",
          "name": "stdout",
          "text": [
            "P\n",
            "r\n",
            "o\n",
            "g\n",
            "r\n",
            "a\n",
            "m\n",
            "m\n",
            "i\n",
            "n\n",
            "g\n",
            " \n",
            "L\n",
            "o\n",
            "g\n",
            "i\n",
            "c\n",
            " \n",
            "a\n",
            "n\n",
            "d\n",
            " \n",
            "D\n",
            "e\n",
            "s\n",
            "i\n",
            "g\n",
            "n\n"
          ]
        }
      ]
    },
    {
      "cell_type": "markdown",
      "source": [
        "The range () function"
      ],
      "metadata": {
        "id": "WVIxFk7K7IDf"
      }
    },
    {
      "cell_type": "code",
      "source": [
        "for x in range(6):\n",
        "  print(x)"
      ],
      "metadata": {
        "colab": {
          "base_uri": "https://localhost:8080/"
        },
        "id": "2aITe5N17Ie5",
        "outputId": "a8526fbf-3cda-4304-a454-936dda7dc9d6"
      },
      "execution_count": 6,
      "outputs": [
        {
          "output_type": "stream",
          "name": "stdout",
          "text": [
            "0\n",
            "1\n",
            "2\n",
            "3\n",
            "4\n",
            "5\n"
          ]
        }
      ]
    },
    {
      "cell_type": "code",
      "source": [
        "for x in range(2,6):\n",
        "  print(x)"
      ],
      "metadata": {
        "colab": {
          "base_uri": "https://localhost:8080/"
        },
        "id": "_M8C7qcE7Mno",
        "outputId": "ed45e6c8-3a7f-44a8-d639-f053d25d3e95"
      },
      "execution_count": 7,
      "outputs": [
        {
          "output_type": "stream",
          "name": "stdout",
          "text": [
            "2\n",
            "3\n",
            "4\n",
            "5\n"
          ]
        }
      ]
    },
    {
      "cell_type": "markdown",
      "source": [
        "Nested Loops"
      ],
      "metadata": {
        "id": "BnYONFLE72WB"
      }
    },
    {
      "cell_type": "code",
      "source": [
        "adjective=[\"red\",\"big\",\"tasty\"]\n",
        "fruits=[\"apple\",\"banana\",\"cherry\"]\n",
        "\n",
        "for x in adjective:\n",
        "  for y in fruits:\n",
        "    print(x,y)"
      ],
      "metadata": {
        "colab": {
          "base_uri": "https://localhost:8080/"
        },
        "id": "QcOJXVvi722a",
        "outputId": "9ccecc79-5b64-4881-9c1e-c3422cf079fe"
      },
      "execution_count": 8,
      "outputs": [
        {
          "output_type": "stream",
          "name": "stdout",
          "text": [
            "red apple\n",
            "red banana\n",
            "red cherry\n",
            "big apple\n",
            "big banana\n",
            "big cherry\n",
            "tasty apple\n",
            "tasty banana\n",
            "tasty cherry\n"
          ]
        }
      ]
    },
    {
      "cell_type": "markdown",
      "source": [
        "While loop"
      ],
      "metadata": {
        "id": "qQz3Gc7f76Zg"
      }
    },
    {
      "cell_type": "code",
      "source": [
        "i=1\n",
        "while i<6:\n",
        "  print(i)\n",
        "  i+=1  #Assignment operator #The same as i=i+1"
      ],
      "metadata": {
        "colab": {
          "base_uri": "https://localhost:8080/"
        },
        "id": "OIw9s4Hx772_",
        "outputId": "62f9b054-58a7-41fc-d1a3-79514f7d653c"
      },
      "execution_count": 9,
      "outputs": [
        {
          "output_type": "stream",
          "name": "stdout",
          "text": [
            "1\n",
            "2\n",
            "3\n",
            "4\n",
            "5\n"
          ]
        }
      ]
    },
    {
      "cell_type": "code",
      "source": [
        "i=1\n",
        "while i<=6:\n",
        "  print(i)\n",
        "  i+=1 #Assignment Operator #The same as i=i+"
      ],
      "metadata": {
        "colab": {
          "base_uri": "https://localhost:8080/"
        },
        "id": "JKfCrK-07-0Q",
        "outputId": "605273ef-8171-4167-fb22-4c37dfe4b6f3"
      },
      "execution_count": 10,
      "outputs": [
        {
          "output_type": "stream",
          "name": "stdout",
          "text": [
            "1\n",
            "2\n",
            "3\n",
            "4\n",
            "5\n",
            "6\n"
          ]
        }
      ]
    },
    {
      "cell_type": "markdown",
      "source": [
        "Break statement under while"
      ],
      "metadata": {
        "id": "4Q5f-29M8BU3"
      }
    },
    {
      "cell_type": "code",
      "source": [
        "i=1\n",
        "while 1<6:\n",
        "  print(i)\n",
        "  if i==3:\n",
        "    break\n",
        "  else:\n",
        "    i+=1"
      ],
      "metadata": {
        "colab": {
          "base_uri": "https://localhost:8080/"
        },
        "id": "2mSMTQIP8KvZ",
        "outputId": "aa076756-e92e-46bf-d8aa-a7d2ae2f6b57"
      },
      "execution_count": 11,
      "outputs": [
        {
          "output_type": "stream",
          "name": "stdout",
          "text": [
            "1\n",
            "2\n",
            "3\n"
          ]
        }
      ]
    },
    {
      "cell_type": "markdown",
      "source": [
        "The continue statement"
      ],
      "metadata": {
        "id": "8IGR1uth8Mmp"
      }
    },
    {
      "cell_type": "code",
      "source": [
        "i=0\n",
        "while i<6:\n",
        "  i+=1\n",
        "  if i==3:\n",
        "    continue\n",
        "  print(i)"
      ],
      "metadata": {
        "colab": {
          "base_uri": "https://localhost:8080/"
        },
        "id": "L8BlVUFV8OK5",
        "outputId": "e29eaea2-7527-442f-aa78-2de5a99d7f26"
      },
      "execution_count": 12,
      "outputs": [
        {
          "output_type": "stream",
          "name": "stdout",
          "text": [
            "1\n",
            "2\n",
            "4\n",
            "5\n",
            "6\n"
          ]
        }
      ]
    },
    {
      "cell_type": "markdown",
      "source": [
        "Else Statement"
      ],
      "metadata": {
        "id": "uYvUnhta8QA4"
      }
    },
    {
      "cell_type": "code",
      "source": [
        "i=1\n",
        "while i<6:\n",
        "  print(i)\n",
        "  i+=1\n",
        "else:\n",
        "  print(\"i is no longer less than 6\")"
      ],
      "metadata": {
        "colab": {
          "base_uri": "https://localhost:8080/"
        },
        "id": "tRCpWCoz8RBZ",
        "outputId": "c17e6f40-f65d-4ef7-9462-088d66ad4bc5"
      },
      "execution_count": 13,
      "outputs": [
        {
          "output_type": "stream",
          "name": "stdout",
          "text": [
            "1\n",
            "2\n",
            "3\n",
            "4\n",
            "5\n",
            "i is no longer less than 6\n"
          ]
        }
      ]
    },
    {
      "cell_type": "markdown",
      "source": [
        "Application 1"
      ],
      "metadata": {
        "id": "GHDSbRa-8VMh"
      }
    },
    {
      "cell_type": "code",
      "source": [
        "value=[\"Value\"]\n",
        "number=[\"0\",\"1\",\"2\",\"3\",\"4\",\"5\",\"6\",\"7\",\"8\",\"9\",\"10\"]\n",
        "\n",
        "for x in value:\n",
        "  for y in number:\n",
        "    print(x,y)"
      ],
      "metadata": {
        "colab": {
          "base_uri": "https://localhost:8080/"
        },
        "id": "NfESbcKl8Vih",
        "outputId": "49eb8529-8973-487e-fa28-0071273e137b"
      },
      "execution_count": 14,
      "outputs": [
        {
          "output_type": "stream",
          "name": "stdout",
          "text": [
            "Value 0\n",
            "Value 1\n",
            "Value 2\n",
            "Value 3\n",
            "Value 4\n",
            "Value 5\n",
            "Value 6\n",
            "Value 7\n",
            "Value 8\n",
            "Value 9\n",
            "Value 10\n"
          ]
        }
      ]
    },
    {
      "cell_type": "markdown",
      "source": [
        "Using while loop on application 1"
      ],
      "metadata": {
        "id": "27AS-iOY8YIc"
      }
    },
    {
      "cell_type": "code",
      "source": [
        "value=[\"Value\"]\n",
        "number=[\"0\",\"1\",\"2\",\"3\",\"4\",\"5\",\"6\",\"7\",\"8\",\"9\",\"10\"]\n",
        "\n",
        "i=0\n",
        "while i<=10:\n",
        "  print(\"value\", i)\n",
        "  i+=1 #Assignment operator for addition"
      ],
      "metadata": {
        "colab": {
          "base_uri": "https://localhost:8080/"
        },
        "id": "B4S11IPw8Z3I",
        "outputId": "b0ff2020-9498-44dc-8314-0770e6473283"
      },
      "execution_count": 15,
      "outputs": [
        {
          "output_type": "stream",
          "name": "stdout",
          "text": [
            "value 0\n",
            "value 1\n",
            "value 2\n",
            "value 3\n",
            "value 4\n",
            "value 5\n",
            "value 6\n",
            "value 7\n",
            "value 8\n",
            "value 9\n",
            "value 10\n"
          ]
        }
      ]
    },
    {
      "cell_type": "markdown",
      "source": [
        "Application 2"
      ],
      "metadata": {
        "id": "MIEwjoW18cIB"
      }
    },
    {
      "cell_type": "code",
      "source": [
        "for x in range (3,20):\n",
        "  print(x)"
      ],
      "metadata": {
        "colab": {
          "base_uri": "https://localhost:8080/"
        },
        "id": "LVi6nCeM8dsJ",
        "outputId": "7d5a2f5f-d0dc-4303-b370-a6416f4ff82d"
      },
      "execution_count": 16,
      "outputs": [
        {
          "output_type": "stream",
          "name": "stdout",
          "text": [
            "3\n",
            "4\n",
            "5\n",
            "6\n",
            "7\n",
            "8\n",
            "9\n",
            "10\n",
            "11\n",
            "12\n",
            "13\n",
            "14\n",
            "15\n",
            "16\n",
            "17\n",
            "18\n",
            "19\n"
          ]
        }
      ]
    }
  ]
}