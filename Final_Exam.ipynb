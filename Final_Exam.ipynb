{
  "nbformat": 4,
  "nbformat_minor": 0,
  "metadata": {
    "colab": {
      "name": "Final Exam.ipynb",
      "provenance": [],
      "authorship_tag": "ABX9TyOKwR1YaS4//ZsxaQocbo8C",
      "include_colab_link": true
    },
    "kernelspec": {
      "name": "python3",
      "display_name": "Python 3"
    },
    "language_info": {
      "name": "python"
    }
  },
  "cells": [
    {
      "cell_type": "markdown",
      "metadata": {
        "id": "view-in-github",
        "colab_type": "text"
      },
      "source": [
        "<a href=\"https://colab.research.google.com/github/RustyEmmerain/CPEN-21A-ECE-2-3/blob/main/Final_Exam.ipynb\" target=\"_parent\"><img src=\"https://colab.research.google.com/assets/colab-badge.svg\" alt=\"Open In Colab\"/></a>"
      ]
    },
    {
      "cell_type": "markdown",
      "source": [
        "Problem Statement 1: Create a Python program that will produce an output of sum of 10 numbers less than 5 using FOR LOOP statement."
      ],
      "metadata": {
        "id": "jCYrvia3IeIQ"
      }
    },
    {
      "cell_type": "code",
      "source": [
        "sum=0\n",
        "num=[3,2,1,0,-1,-2,-3,-4,-5,-6]\n",
        "for x in num:\n",
        "  print(x)\n",
        "\n",
        "  sum+=x\n",
        "print(\"The sum total of 10 numbers less than 5 is\" , sum)"
      ],
      "metadata": {
        "colab": {
          "base_uri": "https://localhost:8080/"
        },
        "id": "G7Nwl4gtIpFr",
        "outputId": "e4cb2273-bd9d-4f96-fed0-ae19c298051d"
      },
      "execution_count": 1,
      "outputs": [
        {
          "output_type": "stream",
          "name": "stdout",
          "text": [
            "3\n",
            "2\n",
            "1\n",
            "0\n",
            "-1\n",
            "-2\n",
            "-3\n",
            "-4\n",
            "-5\n",
            "-6\n",
            "The sum total of 10 numbers less than 5 is -15\n"
          ]
        }
      ]
    },
    {
      "cell_type": "markdown",
      "source": [
        "Problem Statement 2: Create a Python program that will produce accept five numbers and determine the sum of first and last number among the five numbers entered using WHILE LOOP."
      ],
      "metadata": {
        "id": "RI1n_LaeJXF9"
      }
    },
    {
      "cell_type": "code",
      "source": [
        "l=1\n",
        "while l<=5:\n",
        "  print(l)\n",
        "  l+=1\n",
        "n=1,2,3,4,5\n",
        "print(\"The sum of first and last digits is\", 1+5)"
      ],
      "metadata": {
        "colab": {
          "base_uri": "https://localhost:8080/"
        },
        "id": "YX4lFK8CJco9",
        "outputId": "e8361c1e-62b9-4e8d-b633-21986f4dc1e1"
      },
      "execution_count": 2,
      "outputs": [
        {
          "output_type": "stream",
          "name": "stdout",
          "text": [
            "1\n",
            "2\n",
            "3\n",
            "4\n",
            "5\n",
            "The sum of first and last digits is 6\n"
          ]
        }
      ]
    },
    {
      "cell_type": "markdown",
      "source": [
        "Problem Statement 3. Create a Python program to calculate student grades. It accepts a numerical grade as input and it will display the character grade as output based on the given scale: (Use Nested-IF-Else\n",
        "statement.)"
      ],
      "metadata": {
        "id": "T0mj62L6LHgv"
      }
    },
    {
      "cell_type": "code",
      "source": [
        "grade=int(input(\"Input your grade:\"))\n",
        "if grade>=90:\n",
        "  print(\"A\")\n",
        "elif 80<=grade<=89:\n",
        "  print(\"B\")\n",
        "elif 70<=grade<=79:\n",
        "  print(\"C\")\n",
        "elif 6<=grade<=69:\n",
        "  print(\"D\")\n",
        "else:\n",
        "  print(\"F\")"
      ],
      "metadata": {
        "id": "tBdCcMxxLPjM"
      },
      "execution_count": null,
      "outputs": []
    }
  ]
}