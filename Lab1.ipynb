{
  "nbformat": 4,
  "nbformat_minor": 0,
  "metadata": {
    "colab": {
      "name": "Lab1.ipynb",
      "provenance": [],
      "authorship_tag": "ABX9TyNa7PWSxSM25/D2jqI8I1Zw",
      "include_colab_link": true
    },
    "kernelspec": {
      "name": "python3",
      "display_name": "Python 3"
    },
    "language_info": {
      "name": "python"
    }
  },
  "cells": [
    {
      "cell_type": "markdown",
      "metadata": {
        "id": "view-in-github",
        "colab_type": "text"
      },
      "source": [
        "<a href=\"https://colab.research.google.com/github/RustyEmmerain/CPEN-21A-ECE-2-3/blob/main/Lab1.ipynb\" target=\"_parent\"><img src=\"https://colab.research.google.com/assets/colab-badge.svg\" alt=\"Open In Colab\"/></a>"
      ]
    },
    {
      "cell_type": "markdown",
      "metadata": {
        "id": "WhyMXoXt3XBQ"
      },
      "source": [
        "Laboratory 1"
      ]
    },
    {
      "cell_type": "code",
      "metadata": {
        "colab": {
          "base_uri": "https://localhost:8080/"
        },
        "id": "GghU_6UJ3YPw",
        "outputId": "32ecc16d-0557-489d-836d-32fe4d196cd8"
      },
      "source": [
        "print(\"Welcome to Python Programming\")"
      ],
      "execution_count": 1,
      "outputs": [
        {
          "output_type": "stream",
          "name": "stdout",
          "text": [
            "Welcome to Python Programming\n"
          ]
        }
      ]
    },
    {
      "cell_type": "code",
      "metadata": {
        "colab": {
          "base_uri": "https://localhost:8080/"
        },
        "id": "B85Ia8Bk3eJY",
        "outputId": "73930df9-a808-4bfe-fd37-eeb54f5d91cc"
      },
      "source": [
        "Name = \"Rusty Emmerain D. Sarsona\"\n",
        "Address = \"BLK 38 Lot 2 Acm Paramount Navarro General Trias city Cavite\"\n",
        "Age = \"19 years old\"\n",
        "print(\"Name:\" ,Name)\n",
        "print(\"Address:\" ,Address)\n",
        "print(\"Age:\" ,Age)"
      ],
      "execution_count": 2,
      "outputs": [
        {
          "output_type": "stream",
          "name": "stdout",
          "text": [
            "Name: Rusty Emmerain D. Sarsona\n",
            "Address: BLK 38 Lot 2 Acm Paramount Navarro General Trias city Cavite\n",
            "Age: 19 years old\n"
          ]
        }
      ]
    }
  ]
}