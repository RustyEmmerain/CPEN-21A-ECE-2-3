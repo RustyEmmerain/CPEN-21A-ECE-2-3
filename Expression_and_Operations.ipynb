{
  "nbformat": 4,
  "nbformat_minor": 0,
  "metadata": {
    "colab": {
      "name": "Expression and Operations.ipynb",
      "provenance": [],
      "authorship_tag": "ABX9TyP6sbTUnRAussnSo0ZXprGP",
      "include_colab_link": true
    },
    "kernelspec": {
      "name": "python3",
      "display_name": "Python 3"
    },
    "language_info": {
      "name": "python"
    }
  },
  "cells": [
    {
      "cell_type": "markdown",
      "metadata": {
        "id": "view-in-github",
        "colab_type": "text"
      },
      "source": [
        "<a href=\"https://colab.research.google.com/github/RustyEmmerain/CPEN-21A-ECE-2-3/blob/main/Expression_and_Operations.ipynb\" target=\"_parent\"><img src=\"https://colab.research.google.com/assets/colab-badge.svg\" alt=\"Open In Colab\"/></a>"
      ]
    },
    {
      "cell_type": "markdown",
      "metadata": {
        "id": "hc9MIp2d0JOA"
      },
      "source": [
        "Boolean Operators"
      ]
    },
    {
      "cell_type": "code",
      "metadata": {
        "colab": {
          "base_uri": "https://localhost:8080/"
        },
        "id": "tBlV6pdg0LCu",
        "outputId": "fe6c5a08-e58b-4827-ab78-baf88e27c6b7"
      },
      "source": [
        "a = 1\n",
        "b = 2 \n",
        "print(a>b)\n",
        "print(a<b)\n",
        "print(a==a)\n",
        "print(a!=b)"
      ],
      "execution_count": 1,
      "outputs": [
        {
          "output_type": "stream",
          "name": "stdout",
          "text": [
            "False\n",
            "True\n",
            "True\n",
            "True\n"
          ]
        }
      ]
    },
    {
      "cell_type": "markdown",
      "metadata": {
        "id": "yyJqugw70eMu"
      },
      "source": [
        "bool()function"
      ]
    },
    {
      "cell_type": "code",
      "metadata": {
        "colab": {
          "base_uri": "https://localhost:8080/"
        },
        "id": "WqU_SsyQ0hTB",
        "outputId": "665da6c0-e360-4233-d47d-0a91607c77c0"
      },
      "source": [
        "print(bool(15))\n",
        "print(bool(False))\n",
        "print(bool(1))\n",
        "\n",
        "print(bool(False))\n",
        "print(bool(0))\n",
        "print(bool(None))\n",
        "print(bool([]))"
      ],
      "execution_count": 2,
      "outputs": [
        {
          "output_type": "stream",
          "name": "stdout",
          "text": [
            "True\n",
            "False\n",
            "True\n",
            "False\n",
            "False\n",
            "False\n",
            "False\n"
          ]
        }
      ]
    },
    {
      "cell_type": "markdown",
      "metadata": {
        "id": "Aiv3WNrO03fO"
      },
      "source": [
        "Functions return a Boolean"
      ]
    },
    {
      "cell_type": "code",
      "metadata": {
        "colab": {
          "base_uri": "https://localhost:8080/"
        },
        "id": "esGZRIAm07Fd",
        "outputId": "6fcf85e0-bf7d-4751-b97b-a35dc7e52c63"
      },
      "source": [
        "def myFunction(): return True\n",
        "\n",
        "print(myFunction())"
      ],
      "execution_count": 3,
      "outputs": [
        {
          "output_type": "stream",
          "name": "stdout",
          "text": [
            "True\n"
          ]
        }
      ]
    },
    {
      "cell_type": "code",
      "metadata": {
        "colab": {
          "base_uri": "https://localhost:8080/"
        },
        "id": "Y_mMcUWL1EzP",
        "outputId": "70cb4cc3-50fa-43c0-981c-dc4bff5ae8a9"
      },
      "source": [
        "def myFunction(): return False\n",
        "\n",
        "if myFunction():\n",
        "  print(\"True\")\n",
        "else: \n",
        "  print(False)  "
      ],
      "execution_count": 4,
      "outputs": [
        {
          "output_type": "stream",
          "name": "stdout",
          "text": [
            "False\n"
          ]
        }
      ]
    },
    {
      "cell_type": "markdown",
      "metadata": {
        "id": "YPQqkk4u1YVO"
      },
      "source": [
        "Relational Operator "
      ]
    },
    {
      "cell_type": "code",
      "metadata": {
        "colab": {
          "base_uri": "https://localhost:8080/"
        },
        "id": "HYmgqjuH1aOo",
        "outputId": "48698b9f-aaa9-4768-fb56-351e96a5b7d4"
      },
      "source": [
        "print(10>9)\n",
        "print(10>9)\n",
        "print(10==9)"
      ],
      "execution_count": 5,
      "outputs": [
        {
          "output_type": "stream",
          "name": "stdout",
          "text": [
            "True\n",
            "True\n",
            "False\n"
          ]
        }
      ]
    },
    {
      "cell_type": "markdown",
      "metadata": {
        "id": "-sRStKeG1iB3"
      },
      "source": [
        "Arithmetic Operator"
      ]
    },
    {
      "cell_type": "code",
      "metadata": {
        "colab": {
          "base_uri": "https://localhost:8080/"
        },
        "id": "-q7IWBnc1jWH",
        "outputId": "c6f33093-5197-4ef2-fdec-37be19b57af2"
      },
      "source": [
        "print(10+5)\n",
        "print(10-5)\n",
        "print(10*5)\n",
        "print(10/5)\n",
        "print(10%5) #modulo division that shows the ramainder after remainder\n",
        "print(10//3)#floor division\n",
        "print(10**2)#concatenation"
      ],
      "execution_count": 6,
      "outputs": [
        {
          "output_type": "stream",
          "name": "stdout",
          "text": [
            "15\n",
            "5\n",
            "50\n",
            "2.0\n",
            "0\n",
            "3\n",
            "100\n"
          ]
        }
      ]
    },
    {
      "cell_type": "markdown",
      "metadata": {
        "id": "nqrhy9G-2GM4"
      },
      "source": [
        "Bitwise Operators"
      ]
    },
    {
      "cell_type": "code",
      "metadata": {
        "colab": {
          "base_uri": "https://localhost:8080/"
        },
        "id": "2gUDFHmW2Ham",
        "outputId": "90fd7e07-b570-418f-c8a8-e5af7471b4bd"
      },
      "source": [
        "a=60 #0011 1100\n",
        "b=13 #0000 1101\n",
        "\n",
        "print(a&b)\n",
        "print(a|b)\n",
        "print(a^b)\n",
        "\n",
        "print(a<<1) #0011 1100  0111 1000-120\n",
        "print(a>>1) #0011 1100      carry bit-0"
      ],
      "execution_count": 7,
      "outputs": [
        {
          "output_type": "stream",
          "name": "stdout",
          "text": [
            "12\n",
            "61\n",
            "49\n",
            "120\n",
            "30\n"
          ]
        }
      ]
    },
    {
      "cell_type": "markdown",
      "metadata": {
        "id": "o7UkuHh24HUx"
      },
      "source": [
        "Assignment Operators"
      ]
    },
    {
      "cell_type": "code",
      "metadata": {
        "colab": {
          "base_uri": "https://localhost:8080/"
        },
        "id": "Ol0wm2e84JFP",
        "outputId": "c652ed1e-d83b-44ee-ff95-35efaf4b2c05"
      },
      "source": [
        "a+=3 #Same As a=a+3, a=60+3\n",
        "print(a)"
      ],
      "execution_count": 8,
      "outputs": [
        {
          "output_type": "stream",
          "name": "stdout",
          "text": [
            "63\n"
          ]
        }
      ]
    },
    {
      "cell_type": "markdown",
      "metadata": {
        "id": "ZurqQJGK4R7v"
      },
      "source": [
        "Logical Operator"
      ]
    },
    {
      "cell_type": "code",
      "metadata": {
        "colab": {
          "base_uri": "https://localhost:8080/"
        },
        "id": "tiVryi3D4TK3",
        "outputId": "07c8240f-8d3b-4adc-8357-88be940ed20b"
      },
      "source": [
        "print(a and b)\n",
        "print(a or b)\n",
        "print(not(a or b))\n",
        "\n",
        "a>b and b<a"
      ],
      "execution_count": 9,
      "outputs": [
        {
          "output_type": "stream",
          "name": "stdout",
          "text": [
            "13\n",
            "63\n",
            "False\n"
          ]
        },
        {
          "output_type": "execute_result",
          "data": {
            "text/plain": [
              "True"
            ]
          },
          "metadata": {},
          "execution_count": 9
        }
      ]
    },
    {
      "cell_type": "code",
      "metadata": {
        "colab": {
          "base_uri": "https://localhost:8080/"
        },
        "id": "VJzzFZPB5c43",
        "outputId": "23372335-a0df-4922-b8fe-7ee3ee68adc6"
      },
      "source": [
        "a=60\n",
        "b=13\n",
        "print((a>b) and (b<a))\n",
        "print(a==a or b==b)\n",
        "print(not(a==a or b==b))"
      ],
      "execution_count": 10,
      "outputs": [
        {
          "output_type": "stream",
          "name": "stdout",
          "text": [
            "True\n",
            "True\n",
            "False\n"
          ]
        }
      ]
    },
    {
      "cell_type": "markdown",
      "metadata": {
        "id": "KbFybtYG6I-_"
      },
      "source": [
        "Identity Operators"
      ]
    },
    {
      "cell_type": "code",
      "metadata": {
        "colab": {
          "base_uri": "https://localhost:8080/"
        },
        "id": "tmd_qmdy6LPm",
        "outputId": "3f7a55f0-ea44-433e-b471-cd5fdfe8a905"
      },
      "source": [
        "print (a is b)\n",
        "print (a is not b)"
      ],
      "execution_count": 11,
      "outputs": [
        {
          "output_type": "stream",
          "name": "stdout",
          "text": [
            "False\n",
            "True\n"
          ]
        }
      ]
    }
  ]
}