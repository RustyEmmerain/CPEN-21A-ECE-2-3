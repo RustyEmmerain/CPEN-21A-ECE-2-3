{
  "nbformat": 4,
  "nbformat_minor": 0,
  "metadata": {
    "colab": {
      "name": "Demo1.ipynb",
      "provenance": [],
      "authorship_tag": "ABX9TyOdWaMd1qFx4WvYypEn8UZr",
      "include_colab_link": true
    },
    "kernelspec": {
      "name": "python3",
      "display_name": "Python 3"
    },
    "language_info": {
      "name": "python"
    }
  },
  "cells": [
    {
      "cell_type": "markdown",
      "metadata": {
        "id": "view-in-github",
        "colab_type": "text"
      },
      "source": [
        "<a href=\"https://colab.research.google.com/github/RustyEmmerain/CPEN-21A-ECE-2-3/blob/main/Demo1.ipynb\" target=\"_parent\"><img src=\"https://colab.research.google.com/assets/colab-badge.svg\" alt=\"Open In Colab\"/></a>"
      ]
    },
    {
      "cell_type": "markdown",
      "metadata": {
        "id": "T0FZMH_7qGiz"
      },
      "source": [
        "Python Indention"
      ]
    },
    {
      "cell_type": "code",
      "metadata": {
        "colab": {
          "base_uri": "https://localhost:8080/"
        },
        "id": "XFQah_FNqIeD",
        "outputId": "a129b394-ec8b-4a05-a9e4-d6ac74488760"
      },
      "source": [
        "if 5>2:\n",
        "  print(\"Five is greater than two\") #This code shows a string of words. "
      ],
      "execution_count": 4,
      "outputs": [
        {
          "output_type": "stream",
          "name": "stdout",
          "text": [
            "Five is greater than two\n"
          ]
        }
      ]
    },
    {
      "cell_type": "markdown",
      "metadata": {
        "id": "Rri__Kugqbv0"
      },
      "source": [
        "Python Variable"
      ]
    },
    {
      "cell_type": "code",
      "metadata": {
        "colab": {
          "base_uri": "https://localhost:8080/"
        },
        "id": "VyMF_iYoqe9c",
        "outputId": "db998075-1835-493b-945b-a1f83e95736c"
      },
      "source": [
        "a, b, c = 0, 1, 2\n",
        "d = \"Sally\" #This is a type of string \n",
        "s = 'Mark' #This is a type of string\n",
        "A = \"Raymond\" #This is a type of string \n",
        "print(a)\n",
        "print(b)\n",
        "print(c)\n",
        "print(d)\n",
        "print(s)\n",
        "print(A)"
      ],
      "execution_count": 3,
      "outputs": [
        {
          "output_type": "stream",
          "name": "stdout",
          "text": [
            "0\n",
            "1\n",
            "2\n",
            "Sally\n",
            "Mark\n",
            "Raymond\n"
          ]
        }
      ]
    },
    {
      "cell_type": "markdown",
      "metadata": {
        "id": "nLJUIm3KsN8j"
      },
      "source": [
        "Casting"
      ]
    },
    {
      "cell_type": "code",
      "metadata": {
        "colab": {
          "base_uri": "https://localhost:8080/"
        },
        "id": "RLJn5WblsPll",
        "outputId": "692d8fcf-6a42-4f93-fa3e-6c810def9003"
      },
      "source": [
        "print(float(4))"
      ],
      "execution_count": 5,
      "outputs": [
        {
          "output_type": "stream",
          "name": "stdout",
          "text": [
            "4.0\n"
          ]
        }
      ]
    },
    {
      "cell_type": "markdown",
      "metadata": {
        "id": "Szt1Xcm1sbG1"
      },
      "source": [
        "Type Function"
      ]
    },
    {
      "cell_type": "code",
      "metadata": {
        "colab": {
          "base_uri": "https://localhost:8080/"
        },
        "id": "xntulVf8sc-U",
        "outputId": "45496fee-bf62-4b26-9c9c-d5be1bdf378c"
      },
      "source": [
        "f = 56\n",
        "print(type(f))"
      ],
      "execution_count": 6,
      "outputs": [
        {
          "output_type": "stream",
          "name": "stdout",
          "text": [
            "<class 'int'>\n"
          ]
        }
      ]
    },
    {
      "cell_type": "code",
      "metadata": {
        "colab": {
          "base_uri": "https://localhost:8080/"
        },
        "id": "1XxHqSf6sjB9",
        "outputId": "4f65795b-1124-4c07-a6c5-e101844a747d"
      },
      "source": [
        "x, y, z = \"one\", \"two\", \"three\"\n",
        "print(x)\n",
        "print(y)\n",
        "print(z)"
      ],
      "execution_count": 7,
      "outputs": [
        {
          "output_type": "stream",
          "name": "stdout",
          "text": [
            "one\n",
            "two\n",
            "three\n"
          ]
        }
      ]
    },
    {
      "cell_type": "code",
      "metadata": {
        "colab": {
          "base_uri": "https://localhost:8080/"
        },
        "id": "psbVsy9RsyD9",
        "outputId": "eb9cb154-41ed-4dcd-eca3-83d527b585af"
      },
      "source": [
        "x = y = z = \"four\" #Multiple Variables with single value\n",
        "print(x)\n",
        "print(y)\n",
        "print(z)"
      ],
      "execution_count": 8,
      "outputs": [
        {
          "output_type": "stream",
          "name": "stdout",
          "text": [
            "four\n",
            "four\n",
            "four\n"
          ]
        }
      ]
    },
    {
      "cell_type": "code",
      "metadata": {
        "colab": {
          "base_uri": "https://localhost:8080/"
        },
        "id": "g3AeaRtptleX",
        "outputId": "c80decea-8737-4066-d3eb-1f6008ab454e"
      },
      "source": [
        "x = \"enjoying\"\n",
        "print(\"Python programming is \" + x) "
      ],
      "execution_count": 10,
      "outputs": [
        {
          "output_type": "stream",
          "name": "stdout",
          "text": [
            "Python programming is enjoying\n"
          ]
        }
      ]
    },
    {
      "cell_type": "markdown",
      "metadata": {
        "id": "gaMmH4jct2hF"
      },
      "source": [
        "Operations in Python"
      ]
    },
    {
      "cell_type": "code",
      "metadata": {
        "colab": {
          "base_uri": "https://localhost:8080/"
        },
        "id": "ikKE3EX4t47i",
        "outputId": "6a500580-2559-451d-d6fb-99cde61d3ab0"
      },
      "source": [
        "k = 10\n",
        "l = 5 \n",
        "print(k+l)"
      ],
      "execution_count": 13,
      "outputs": [
        {
          "output_type": "stream",
          "name": "stdout",
          "text": [
            "15\n"
          ]
        }
      ]
    },
    {
      "cell_type": "code",
      "metadata": {
        "colab": {
          "base_uri": "https://localhost:8080/"
        },
        "id": "i6pTWG_WuKtt",
        "outputId": "6170d19d-76a9-47fe-e741-8bc026cdc2d0"
      },
      "source": [
        "k += l #k is the same k = k+l\n",
        "print(k)"
      ],
      "execution_count": 14,
      "outputs": [
        {
          "output_type": "stream",
          "name": "stdout",
          "text": [
            "15\n"
          ]
        }
      ]
    },
    {
      "cell_type": "code",
      "metadata": {
        "colab": {
          "base_uri": "https://localhost:8080/"
        },
        "id": "LX-4Z9y5uWAm",
        "outputId": "b0bfe9fc-9545-4795-dc90-24601e0d33a5"
      },
      "source": [
        "k>l and l==l"
      ],
      "execution_count": 15,
      "outputs": [
        {
          "output_type": "execute_result",
          "data": {
            "text/plain": [
              "True"
            ]
          },
          "metadata": {},
          "execution_count": 15
        }
      ]
    },
    {
      "cell_type": "code",
      "metadata": {
        "colab": {
          "base_uri": "https://localhost:8080/"
        },
        "id": "11lmKWHouaVF",
        "outputId": "80573dc9-f69a-46c8-aecf-8660e11cd669"
      },
      "source": [
        "k<l or k==k"
      ],
      "execution_count": 16,
      "outputs": [
        {
          "output_type": "execute_result",
          "data": {
            "text/plain": [
              "True"
            ]
          },
          "metadata": {},
          "execution_count": 16
        }
      ]
    },
    {
      "cell_type": "code",
      "metadata": {
        "colab": {
          "base_uri": "https://localhost:8080/"
        },
        "id": "xh8K2J9Duetd",
        "outputId": "bb169e2a-c369-4010-9847-77479dfcd724"
      },
      "source": [
        "not(k<l or k==k)"
      ],
      "execution_count": 17,
      "outputs": [
        {
          "output_type": "execute_result",
          "data": {
            "text/plain": [
              "False"
            ]
          },
          "metadata": {},
          "execution_count": 17
        }
      ]
    },
    {
      "cell_type": "code",
      "metadata": {
        "colab": {
          "base_uri": "https://localhost:8080/"
        },
        "id": "_D7F9-14vus3",
        "outputId": "2f644db0-9b2d-4275-86c8-b9393e526ad8"
      },
      "source": [
        "k is not l"
      ],
      "execution_count": 18,
      "outputs": [
        {
          "output_type": "execute_result",
          "data": {
            "text/plain": [
              "True"
            ]
          },
          "metadata": {},
          "execution_count": 18
        }
      ]
    },
    {
      "cell_type": "code",
      "metadata": {
        "id": "05C0lckuwEB2"
      },
      "source": [
        "k%=5"
      ],
      "execution_count": 19,
      "outputs": []
    }
  ]
}