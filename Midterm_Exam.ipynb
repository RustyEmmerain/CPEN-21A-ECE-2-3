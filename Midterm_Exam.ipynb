{
  "nbformat": 4,
  "nbformat_minor": 0,
  "metadata": {
    "colab": {
      "name": "Midterm Exam.ipynb",
      "provenance": [],
      "authorship_tag": "ABX9TyMHsr39SDW8SSLT3Pd3/1hc",
      "include_colab_link": true
    },
    "kernelspec": {
      "name": "python3",
      "display_name": "Python 3"
    },
    "language_info": {
      "name": "python"
    }
  },
  "cells": [
    {
      "cell_type": "markdown",
      "metadata": {
        "id": "view-in-github",
        "colab_type": "text"
      },
      "source": [
        "<a href=\"https://colab.research.google.com/github/RustyEmmerain/CPEN-21A-ECE-2-3/blob/main/Midterm_Exam.ipynb\" target=\"_parent\"><img src=\"https://colab.research.google.com/assets/colab-badge.svg\" alt=\"Open In Colab\"/></a>"
      ]
    },
    {
      "cell_type": "markdown",
      "metadata": {
        "id": "ahH6S4uyzv0v"
      },
      "source": [
        "Problem Statement 1"
      ]
    },
    {
      "cell_type": "code",
      "metadata": {
        "colab": {
          "base_uri": "https://localhost:8080/"
        },
        "id": "bA2eyhPrzzSc",
        "outputId": "98cd94fb-e0fb-457d-e749-89225a7146d3"
      },
      "source": [
        "Name = \"Rusty Emmerain Dela Rosa Sarsona\"\n",
        "StudentNumber = \"202014702\"\n",
        "Age = \"19\"\n",
        "Birthday = \"June 14, 2002\"\n",
        "Address = \"ACM Paramount Navarro City of General Trias Cavite\"\n",
        "Course = \"Bachelor of Science in Electronics Communication Engineering\"\n",
        "LastSemGWA = \"1.64\"\n",
        "print(\"Name:\" ,Name)\n",
        "print(\"Student number:\" ,StudentNumber)\n",
        "print(\"Age:\" ,Age)\n",
        "print(\"Birthday:\" ,Birthday)\n",
        "print(\"Address:\" ,Address)\n",
        "print(\"Course:\" ,Course)\n",
        "print(\"Last Sem GWA:\" ,LastSemGWA)"
      ],
      "execution_count": 1,
      "outputs": [
        {
          "output_type": "stream",
          "name": "stdout",
          "text": [
            "Name: Rusty Emmerain Dela Rosa Sarsona\n",
            "Student number: 202014702\n",
            "Age: 19\n",
            "Birthday: June 14, 2002\n",
            "Address: ACM Paramount Navarro City of General Trias Cavite\n",
            "Course: Bachelor of Science in Electronics Communication Engineering\n",
            "Last Sem GWA: 1.64\n"
          ]
        }
      ]
    },
    {
      "cell_type": "markdown",
      "metadata": {
        "id": "aoO7NWUC0FFV"
      },
      "source": [
        "Problem Statement 2"
      ]
    },
    {
      "cell_type": "code",
      "metadata": {
        "colab": {
          "base_uri": "https://localhost:8080/"
        },
        "id": "5535aEpe0Gmj",
        "outputId": "af4a23a4-3019-4f53-dad3-64daad76b6f9"
      },
      "source": [
        "n=4\n",
        "answ=\"Y\"\n",
        "print(2<n and n<6)\n",
        "print(2<n or n==6)\n",
        "print(not 2<n or n==6)\n",
        "print(not n<6)\n",
        "print(answ==\"Y\" or answ==\"y\")\n",
        "print(answ==\"Y\" and answ==\"y\")\n",
        "print(not answ==\"y\")\n",
        "print((2<n and n==5+1) or answ==\"No\")\n",
        "print((n==2 and n==7) or answ==\"Y\")\n",
        "print(n==2 and (n==7 or answ==\"Y\"))"
      ],
      "execution_count": 5,
      "outputs": [
        {
          "output_type": "stream",
          "name": "stdout",
          "text": [
            "True\n",
            "True\n",
            "False\n",
            "False\n",
            "True\n",
            "False\n",
            "True\n",
            "False\n",
            "True\n",
            "False\n"
          ]
        }
      ]
    },
    {
      "cell_type": "markdown",
      "metadata": {
        "id": "gOZyYGTB3HAm"
      },
      "source": [
        "Problem Statement 3"
      ]
    },
    {
      "cell_type": "code",
      "metadata": {
        "colab": {
          "base_uri": "https://localhost:8080/"
        },
        "id": "0eVY1cmQ3IrO",
        "outputId": "4b61c804-4048-4007-974b-572a05bfb1b9"
      },
      "source": [
        "x=2\n",
        "y=-3\n",
        "w=7\n",
        "z=-10\n",
        "\n",
        "print(x/y)\n",
        "print(w/y/x)\n",
        "print(z/y%x)\n",
        "print(x%-y*w)\n",
        "print(x%y)\n",
        "print(z%w-y/x*5+5)\n",
        "print(9-x%(2+y))\n",
        "print(z//w)\n",
        "print((2+y)**2)\n",
        "print(w/x*2)"
      ],
      "execution_count": 6,
      "outputs": [
        {
          "output_type": "stream",
          "name": "stdout",
          "text": [
            "-0.6666666666666666\n",
            "-1.1666666666666667\n",
            "1.3333333333333335\n",
            "14\n",
            "-1\n",
            "16.5\n",
            "9\n",
            "-2\n",
            "1\n",
            "7.0\n"
          ]
        }
      ]
    }
  ]
}